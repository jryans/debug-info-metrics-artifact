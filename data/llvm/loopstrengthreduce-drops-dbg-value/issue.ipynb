{
 "cells": [
  {
   "cell_type": "markdown",
   "metadata": {},
   "source": [
    "## Setup environment"
   ]
  },
  {
   "cell_type": "code",
   "execution_count": null,
   "metadata": {},
   "outputs": [],
   "source": [
    "import os\n",
    "import sys\n",
    "module_path = os.path.abspath(os.path.join(\"../..\"))\n",
    "if module_path not in sys.path:\n",
    "  sys.path.append(module_path)\n",
    "\n",
    "import numpy as np\n",
    "import pandas as pd\n",
    "\n",
    "import matplotlib as mpl\n",
    "import matplotlib.pyplot as plt\n",
    "\n",
    "import seaborn as sns\n",
    "import seaborn.objects as so\n",
    "\n",
    "import shared.package_plots as plots"
   ]
  },
  {
   "cell_type": "markdown",
   "metadata": {},
   "source": [
    "## Setup notebook"
   ]
  },
  {
   "cell_type": "code",
   "execution_count": null,
   "metadata": {},
   "outputs": [],
   "source": [
    "pd.options.display.max_colwidth = 100\n",
    "pd.options.display.min_rows = 20\n",
    "\n",
    "sns.set_theme(\n",
    "  context=\"paper\",\n",
    "  style=\"whitegrid\",\n",
    "  # Adapted from https://personal.sron.nl/~pault/\n",
    "  palette=['#4477AA', '#EE6677', '#228833', '#DDAA33', '#66CCEE', '#AA3377', '#BBBBBB'],\n",
    "  font=\"Source Sans Pro\",\n",
    ")\n",
    "\n",
    "%config InlineBackend.figure_format = \"retina\""
   ]
  },
  {
   "cell_type": "markdown",
   "metadata": {},
   "source": [
    "## Load data"
   ]
  },
  {
   "cell_type": "code",
   "execution_count": null,
   "metadata": {},
   "outputs": [],
   "source": [
    "def load_data():\n",
    "  dfs = []\n",
    "\n",
    "  def read_run(file, variant):\n",
    "    df = pd.read_table(file)\n",
    "\n",
    "    # Clean up column names\n",
    "    df.columns = df.columns.str.strip()\n",
    "    # Sort by name to aid matching across datasets\n",
    "    df = df.sort_values(\"Name\", ignore_index=True)\n",
    "    # Summarise across inlined call sites with arithmetic mean\n",
    "    df = df.groupby(\"Name\", as_index=False).mean(numeric_only=True)\n",
    "\n",
    "    df.variant = variant\n",
    "    dfs.append(df)\n",
    "\n",
    "  # Order is important here!\n",
    "  # Some data transformations rely on\n",
    "  # `iloc[1]` to access the baseline,\n",
    "  # `diff` to access KE vs. not, etc.\n",
    "  # Re-check all transformations when changing the order.\n",
    "  read_run(\"example-O1.tsv\", \"O1 (before)\")\n",
    "  read_run(\"example-O1-fixed.tsv\", \"O1 (after)\")\n",
    "\n",
    "  # Check names present in each compilation for differences\n",
    "  print(\"# Names\")\n",
    "  common_names = set(dfs[0][\"Name\"])\n",
    "  for df in dfs:\n",
    "    common_names = common_names & set(df[\"Name\"])\n",
    "  print(f\"Common names: {len(common_names)}\")\n",
    "  all_names = set()\n",
    "  for df in dfs:\n",
    "    all_names = all_names | set(df[\"Name\"])\n",
    "  all_names_df = pd.DataFrame({ \"Name\": list(all_names) })\n",
    "  print(f\"All names: {len(all_names)}\")\n",
    "  print()\n",
    "\n",
    "  def name_diffs(df):\n",
    "    print(f\"## {df.variant}\")\n",
    "    missing_all_diff = len(all_names_df[~all_names_df[\"Name\"].isin(df[\"Name\"])])\n",
    "    print(f\"{missing_all_diff} names from other compilations missing from this compilation\")\n",
    "    common_diff = len(df[~df[\"Name\"].isin(common_names)])\n",
    "    print(f\"{common_diff} names missing from one or more other compilations\")\n",
    "    print()\n",
    "\n",
    "  for df in dfs:\n",
    "    name_diffs(df)\n",
    "\n",
    "  def add_missing_rows(df):\n",
    "    variant = df.variant\n",
    "    # Create additional dataset with missing rows\n",
    "    missing_df = all_names_df[~all_names_df[\"Name\"].isin(df[\"Name\"])].copy()\n",
    "    missing_df[\"Cov (B)\"] = 0\n",
    "    missing_df[\"Scope (B)\"] = 1\n",
    "    missing_df[\"Cov (L)\"] = 0\n",
    "    missing_df[\"Scope (L)\"] = 1\n",
    "    missing_df[\"Flt Cov (L)\"] = 0\n",
    "    missing_df[\"Src Scope (L)\"] = 1\n",
    "    print(f\"Adding {len(missing_df)} missing names to {variant}\")\n",
    "    # Append to existing data and resort\n",
    "    df = pd.concat(\n",
    "      [\n",
    "        df,\n",
    "        missing_df,\n",
    "      ],\n",
    "      ignore_index=True,\n",
    "    )\n",
    "    assert len(df) == len(all_names_df), \"Names still missing\"\n",
    "    df = df.sort_values(\"Name\", ignore_index=True)\n",
    "    df.variant = variant\n",
    "    return df\n",
    "\n",
    "  # Add any missing rows so that all compilations contain the union of all names\n",
    "  for (i, df) in enumerate(dfs):\n",
    "    dfs[i] = add_missing_rows(df)\n",
    "\n",
    "  # Manufacture virtual data frame representing full coverage\n",
    "  full_df = dfs[0].copy()\n",
    "  full_df[\"Cov (B)\"] = full_df[\"Scope (B)\"]\n",
    "  full_df[\"Cov (L)\"] = full_df[\"Scope (L)\"]\n",
    "  full_df[\"Flt Cov (L)\"] = full_df[\"Src Scope (L)\"]\n",
    "  full_df.variant = \"Defined region\"\n",
    "  dfs.insert(0, full_df)\n",
    "\n",
    "  def df_keys(df):\n",
    "    return df.variant\n",
    "\n",
    "  compilations_df = pd.concat(\n",
    "    dfs,\n",
    "    keys=map(df_keys, dfs),\n",
    "    names=[\n",
    "      \"Variant\",\n",
    "      \"Row\",\n",
    "    ],\n",
    "  )\n",
    "\n",
    "  return compilations_df\n",
    "\n",
    "compilations_df = load_data()"
   ]
  },
  {
   "cell_type": "markdown",
   "metadata": {},
   "source": [
    "## Normalise"
   ]
  },
  {
   "cell_type": "code",
   "execution_count": null,
   "metadata": {},
   "outputs": [],
   "source": [
    "plots.normalise(compilations_df)"
   ]
  },
  {
   "cell_type": "markdown",
   "metadata": {},
   "source": [
    "## Playground"
   ]
  },
  {
   "cell_type": "code",
   "execution_count": null,
   "metadata": {},
   "outputs": [],
   "source": [
    "# df = compilations_df.copy()\n",
    "# df"
   ]
  },
  {
   "cell_type": "markdown",
   "metadata": {},
   "source": [
    "## Plot"
   ]
  },
  {
   "cell_type": "code",
   "execution_count": null,
   "metadata": {},
   "outputs": [],
   "source": [
    "df = compilations_df.copy()\n",
    "df[\"Order\"] = df.sort_values(by=\"FCL / SSL\", ascending=False).groupby(\"Variant\").cumcount()\n",
    "g = sns.relplot(\n",
    "  df,\n",
    "  x=\"Order\",\n",
    "  y=\"FCL / SSL\",\n",
    "  hue=\"Variant\",\n",
    "  kind=\"line\",\n",
    "  height=2.5,\n",
    ")\n",
    "sns.move_legend(\n",
    "  g,\n",
    "  \"upper left\",\n",
    "  bbox_to_anchor=(0.25, 0.925),\n",
    "  fontsize=\"small\",\n",
    "  frameon=True,\n",
    "  shadow=True,\n",
    "  title=None,\n",
    ")\n",
    "g.set(\n",
    "  title=\"Issue 38163\",\n",
    "  xlabel=\"Variable index\",\n",
    "  xbound=(0, df[\"Order\"].max()),\n",
    "  xticks=[0, 1],\n",
    "  ylabel=\"Covered source lines\\nnormalised to defined region\",\n",
    "  ybound=(0, 1.002),\n",
    ")"
   ]
  }
 ],
 "metadata": {
  "kernelspec": {
   "display_name": "Python 3",
   "language": "python",
   "name": "python3"
  },
  "language_info": {
   "codemirror_mode": {
    "name": "ipython",
    "version": 3
   },
   "file_extension": ".py",
   "mimetype": "text/x-python",
   "name": "python",
   "nbconvert_exporter": "python",
   "pygments_lexer": "ipython3",
   "version": "3.11.5"
  },
  "orig_nbformat": 4,
  "vscode": {
   "interpreter": {
    "hash": "aee8b7b246df8f9039afb4144a1f6fd8d2ca17a180786b69acc140d282b71a49"
   }
  }
 },
 "nbformat": 4,
 "nbformat_minor": 2
}
