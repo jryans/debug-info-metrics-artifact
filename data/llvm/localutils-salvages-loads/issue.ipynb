{
 "cells": [
  {
   "cell_type": "code",
   "execution_count": null,
   "metadata": {},
   "outputs": [],
   "source": [
    "import numpy as np\n",
    "import pandas as pd\n",
    "\n",
    "import matplotlib as mpl\n",
    "import matplotlib.pyplot as plt\n",
    "\n",
    "import seaborn as sns\n",
    "import seaborn.objects as so"
   ]
  },
  {
   "cell_type": "code",
   "execution_count": null,
   "metadata": {},
   "outputs": [],
   "source": [
    "sns.set_theme(\n",
    "  context=\"paper\",\n",
    "  style=\"whitegrid\",\n",
    "  palette=\"colorblind\",\n",
    "  font=\"Source Sans Pro\",\n",
    ")"
   ]
  },
  {
   "cell_type": "code",
   "execution_count": null,
   "metadata": {},
   "outputs": [],
   "source": [
    "%config InlineBackend.figure_format = \"retina\""
   ]
  },
  {
   "cell_type": "code",
   "execution_count": null,
   "metadata": {},
   "outputs": [],
   "source": [
    "def read_run(file, variant):\n",
    "  df = pd.read_table(file)\n",
    "  # Clean up column names\n",
    "  df.columns = df.columns.str.strip()\n",
    "  # Drop summary rows\n",
    "  df = df.iloc[:-3]\n",
    "  # Only name and line coverage columns\n",
    "  df = df[[\"Name\", \"Cov (L)\", \"Scope (L)\", \"CL / SL\"]]\n",
    "  df[\"Variant\"] = variant\n",
    "  df = df.sort_values(\"Name\", ignore_index=True)\n",
    "  return df\n",
    "\n",
    "o0_efb_df = read_run(\"example-O0-mem2reg-rsb-efb.tsv\", \"O0 + mem2reg\")\n",
    "o2_df = read_run(\"example-O2-rsb.tsv\", \"O2 (before resolution)\")\n",
    "o2_fixed_df = read_run(\"example-O2-fixed-rsb.tsv\", \"O2 (after resolution)\")\n",
    "\n",
    "baseline_df = o0_efb_df\n",
    "\n",
    "# Use name values from baseline run (addresses differ)\n",
    "o2_df[\"Name\"] = baseline_df[\"Name\"]\n",
    "o2_fixed_df[\"Name\"] = baseline_df[\"Name\"]\n",
    "\n",
    "distribution_df = pd.concat([\n",
    "  o0_efb_df,\n",
    "  o2_df,\n",
    "  o2_fixed_df,\n",
    "]).reset_index(drop=True)\n",
    "\n",
    "# TODO: Use some kind of wide operation instead of per row\n",
    "def normalise(row):\n",
    "  # Line table may differ between runs, giving different scope line counts\n",
    "  # Use the largest scope line count from any run to recompute ratio\n",
    "  all_rows = distribution_df[distribution_df[\"Name\"] == row[\"Name\"]]\n",
    "  max_scope = all_rows[\"Scope (L)\"].max()\n",
    "  row[\"Max Scope (L)\"] = max_scope\n",
    "  row[\"CL / MSL\"] = row[\"Cov (L)\"] / row[\"Max Scope (L)\"]\n",
    "  # Normalise values to baseline\n",
    "  base_row = baseline_df[baseline_df[\"Name\"] == row[\"Name\"]]\n",
    "  row[\"CL / BCL\"] = row[\"Cov (L)\"] / base_row[\"Cov (L)\"].iat[0]\n",
    "  return row\n",
    "\n",
    "distribution_df = distribution_df.apply(normalise, axis=1)\n",
    "\n",
    "# distribution_df[distribution_df[\"Name\"].str.contains(\"list_cmds   ,sep\")]\n",
    "# distribution_df.sort_values(\"CL / BCL\", ascending=False)\n",
    "\n",
    "# distribution_df"
   ]
  },
  {
   "cell_type": "code",
   "execution_count": null,
   "metadata": {},
   "outputs": [],
   "source": [
    "df = distribution_df.copy()\n",
    "df[\"Order\"] = df.sort_values(by=\"CL / BCL\", ascending=False).groupby(\"Variant\").cumcount()\n",
    "# df = df[df[\"Variant\"].str.contains(\"O[01]\") & ~(df[\"Variant\"].str.contains(\"DE\"))]\n",
    "g = sns.relplot(\n",
    "  df,\n",
    "  x=\"Order\",\n",
    "  y=\"CL / BCL\",\n",
    "  hue=\"Variant\",\n",
    "  kind=\"line\",\n",
    "  height=3.5,\n",
    ")\n",
    "sns.move_legend(\n",
    "  g,\n",
    "  \"center right\",\n",
    "  bbox_to_anchor=(0.65, 0.8),\n",
    "  frameon=True,\n",
    "  shadow=True,\n",
    "  title=None,\n",
    ")\n",
    "g.set(\n",
    "  title=\"Variable value source line coverage (issue 39974)\",\n",
    "  xlabel=\"Variable index (sorted by coverage)\",\n",
    "  xbound=(0, None),\n",
    "  ylabel=\"Covered source lines relative to O0 + mem2reg\",\n",
    "  ybound=(0, None),\n",
    ")"
   ]
  }
 ],
 "metadata": {
  "kernelspec": {
   "display_name": "Python 3",
   "language": "python",
   "name": "python3"
  },
  "language_info": {
   "codemirror_mode": {
    "name": "ipython",
    "version": 3
   },
   "file_extension": ".py",
   "mimetype": "text/x-python",
   "name": "python",
   "nbconvert_exporter": "python",
   "pygments_lexer": "ipython3",
   "version": "3.11.2"
  },
  "orig_nbformat": 4,
  "vscode": {
   "interpreter": {
    "hash": "aee8b7b246df8f9039afb4144a1f6fd8d2ca17a180786b69acc140d282b71a49"
   }
  }
 },
 "nbformat": 4,
 "nbformat_minor": 2
}
