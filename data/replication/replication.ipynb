{
 "cells": [
  {
   "attachments": {},
   "cell_type": "markdown",
   "metadata": {},
   "source": [
    "## Setup environment"
   ]
  },
  {
   "cell_type": "code",
   "execution_count": null,
   "metadata": {},
   "outputs": [],
   "source": [
    "import numpy as np\n",
    "import pandas as pd\n",
    "\n",
    "import matplotlib as mpl\n",
    "import matplotlib.pyplot as plt\n",
    "\n",
    "import seaborn as sns\n",
    "import seaborn.objects as so\n",
    "\n",
    "import plots"
   ]
  },
  {
   "cell_type": "markdown",
   "metadata": {},
   "source": [
    "## Setup notebook"
   ]
  },
  {
   "cell_type": "code",
   "execution_count": null,
   "metadata": {},
   "outputs": [],
   "source": [
    "pd.options.display.max_colwidth = 100\n",
    "pd.options.display.min_rows = 20\n",
    "\n",
    "sns.set_theme(\n",
    "  context=\"paper\",\n",
    "  style=\"whitegrid\",\n",
    "  palette=\"colorblind\",\n",
    "  font=\"Source Sans Pro\",\n",
    ")\n",
    "\n",
    "%config InlineBackend.figure_format = \"retina\""
   ]
  },
  {
   "attachments": {},
   "cell_type": "markdown",
   "metadata": {},
   "source": [
    "## Load data"
   ]
  },
  {
   "cell_type": "code",
   "execution_count": null,
   "metadata": {},
   "outputs": [],
   "source": [
    "df = plots.load_data()"
   ]
  },
  {
   "cell_type": "markdown",
   "metadata": {},
   "source": [
    "## Playground"
   ]
  },
  {
   "cell_type": "code",
   "execution_count": null,
   "metadata": {},
   "outputs": [],
   "source": [
    "# df = pd.read_table(\"testcases/0/bin/clang-11/opt-0-lines.tsv\")\n",
    "# # Some files are expected to be empty (whole program optimised away)\n",
    "# if len(df) == 0:\n",
    "#   raise RuntimeError(\"No data\")\n",
    "# df.columns = df.columns.str.strip()\n",
    "\n",
    "# df[\"Locatability\"] = df[\"Locatable (V)\"] / df[\"Scope (V)\"]\n",
    "\n",
    "# present_reachable_df = df[\n",
    "#   (df[\"Present\"] == 1) &\n",
    "#   (df[\"Reachable\"] == 1)\n",
    "# ]\n",
    "# line_coverage = len(present_reachable_df) / len(df)\n",
    "\n",
    "# # Not convinced this is statistically valid, but it's what ASPLOS does\n",
    "# availability_of_variables = present_reachable_df[\"Locatability\"].mean()\n",
    "\n",
    "# # for line in present_reachable_df[\"Line\"]:\n",
    "# #   print(line)\n",
    "\n",
    "# # print(len(present_reachable_df))\n",
    "# # print(len(df))\n",
    "# # print(line_coverage)\n",
    "\n",
    "# present_reachable_df"
   ]
  },
  {
   "cell_type": "code",
   "execution_count": null,
   "metadata": {},
   "outputs": [],
   "source": [
    "# def summarise(file):\n",
    "#   df = pd.read_table(file)\n",
    "#   # Some files are expected to be empty (whole program optimised away)\n",
    "#   if len(df) == 0:\n",
    "#     print(f\"Skipping {file}, no data found\")\n",
    "#     raise RuntimeError(\"No data\")\n",
    "#   df.columns = df.columns.str.strip()\n",
    "\n",
    "#   df[\"Locatability\"] = df[\"Locatable (V)\"] / df[\"Scope (V)\"]\n",
    "\n",
    "#   present_reachable_df = df[\n",
    "#     (df[\"Present\"] == 1) &\n",
    "#     (df[\"Reachable\"] == 1)\n",
    "#   ]\n",
    "#   line_coverage = len(present_reachable_df) / len(df)\n",
    "\n",
    "#   # Not convinced this is statistically valid, but it's what ASPLOS does\n",
    "#   availability_of_variables = present_reachable_df[\"Locatability\"].mean()\n",
    "\n",
    "#   return {\n",
    "#     \"Line Coverage\": line_coverage,\n",
    "#     \"Availability of Variables\": availability_of_variables,\n",
    "#   }\n",
    "\n",
    "# summarise(\"testcases/0/bin/clang-11/opt-1-lines.tsv\")"
   ]
  },
  {
   "cell_type": "code",
   "execution_count": null,
   "metadata": {},
   "outputs": [],
   "source": [
    "# df"
   ]
  },
  {
   "cell_type": "markdown",
   "metadata": {},
   "source": [
    "## Line coverage"
   ]
  },
  {
   "cell_type": "code",
   "execution_count": null,
   "metadata": {},
   "outputs": [],
   "source": [
    "plots.line_coverage(df)"
   ]
  },
  {
   "cell_type": "markdown",
   "metadata": {},
   "source": [
    "## Availability of variables"
   ]
  },
  {
   "cell_type": "code",
   "execution_count": null,
   "metadata": {},
   "outputs": [],
   "source": [
    "plots.availability_of_variables(df)"
   ]
  },
  {
   "cell_type": "markdown",
   "metadata": {},
   "source": [
    "## Product of metrics"
   ]
  },
  {
   "cell_type": "code",
   "execution_count": null,
   "metadata": {},
   "outputs": [],
   "source": [
    "plots.product_of_metrics(df)"
   ]
  },
  {
   "cell_type": "markdown",
   "metadata": {},
   "source": [
    "## Combined"
   ]
  },
  {
   "cell_type": "code",
   "execution_count": null,
   "metadata": {},
   "outputs": [],
   "source": [
    "plots.combined(df)"
   ]
  }
 ],
 "metadata": {
  "kernelspec": {
   "display_name": "Python 3",
   "language": "python",
   "name": "python3"
  },
  "language_info": {
   "codemirror_mode": {
    "name": "ipython",
    "version": 3
   },
   "file_extension": ".py",
   "mimetype": "text/x-python",
   "name": "python",
   "nbconvert_exporter": "python",
   "pygments_lexer": "ipython3",
   "version": "3.11.5"
  },
  "orig_nbformat": 4,
  "vscode": {
   "interpreter": {
    "hash": "aee8b7b246df8f9039afb4144a1f6fd8d2ca17a180786b69acc140d282b71a49"
   }
  }
 },
 "nbformat": 4,
 "nbformat_minor": 2
}
