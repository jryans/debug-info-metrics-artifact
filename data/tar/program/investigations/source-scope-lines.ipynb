{
 "cells": [
  {
   "attachments": {},
   "cell_type": "markdown",
   "metadata": {},
   "source": [
    "## Setup environment"
   ]
  },
  {
   "cell_type": "code",
   "execution_count": null,
   "metadata": {},
   "outputs": [],
   "source": [
    "import os\n",
    "import sys\n",
    "module_path = os.path.abspath(os.path.join(\"../../..\"))\n",
    "if module_path not in sys.path:\n",
    "  sys.path.append(module_path)\n",
    "\n",
    "import numpy as np\n",
    "import pandas as pd\n",
    "\n",
    "import matplotlib as mpl\n",
    "import matplotlib.pyplot as plt\n",
    "\n",
    "import seaborn as sns\n",
    "import seaborn.objects as so\n",
    "\n",
    "import shared.plots as plots"
   ]
  },
  {
   "cell_type": "markdown",
   "metadata": {},
   "source": [
    "## Setup notebook"
   ]
  },
  {
   "cell_type": "code",
   "execution_count": null,
   "metadata": {},
   "outputs": [],
   "source": [
    "pd.options.display.max_colwidth = 100\n",
    "\n",
    "sns.set_theme(\n",
    "  context=\"paper\",\n",
    "  style=\"whitegrid\",\n",
    "  palette=\"colorblind\",\n",
    "  font=\"Source Sans Pro\",\n",
    ")\n",
    "\n",
    "%config InlineBackend.figure_format = \"retina\""
   ]
  },
  {
   "cell_type": "markdown",
   "metadata": {},
   "source": [
    "## Configuration"
   ]
  },
  {
   "cell_type": "code",
   "execution_count": null,
   "metadata": {},
   "outputs": [],
   "source": [
    "plots.configure(\n",
    "  target=\"tar\",\n",
    "  friendly=\"tar\",\n",
    "  path_prefix=\"../\",\n",
    ")"
   ]
  },
  {
   "attachments": {},
   "cell_type": "markdown",
   "metadata": {},
   "source": [
    "## Load data"
   ]
  },
  {
   "cell_type": "code",
   "execution_count": null,
   "metadata": {},
   "outputs": [],
   "source": [
    "compilations_df = plots.load_data()"
   ]
  },
  {
   "cell_type": "markdown",
   "metadata": {},
   "source": [
    "## Normalise"
   ]
  },
  {
   "cell_type": "code",
   "execution_count": null,
   "metadata": {},
   "outputs": [],
   "source": [
    "\n",
    "plots.normalise(compilations_df)\n",
    "\n",
    "# compilations_df.to_csv(\"normalised.tsv\", sep=\"\\t\")"
   ]
  },
  {
   "cell_type": "markdown",
   "metadata": {},
   "source": [
    "## Sanity check"
   ]
  },
  {
   "cell_type": "code",
   "execution_count": null,
   "metadata": {},
   "outputs": [],
   "source": [
    "df = compilations_df.copy()\n",
    "\n",
    "print(\"Rows with no scope lines:\", df[df[\"Src Scope (L)\"] == 0].shape[0])\n",
    "print(\"Rows with >100% coverage:\", df[df[\"FCL / SSL\"] > 1].shape[0])\n",
    "\n",
    "# assert df[df[\"Src Scope (L)\"] == 0].shape[0] == 0, \"Rows with no scope lines\"\n",
    "assert df[df[\"FCL / SSL\"] > 1].shape[0] == 0, \"Rows with >100% coverage\""
   ]
  },
  {
   "cell_type": "markdown",
   "metadata": {},
   "source": [
    "## Playground"
   ]
  },
  {
   "cell_type": "code",
   "execution_count": null,
   "metadata": {},
   "outputs": [],
   "source": [
    "df = compilations_df.copy()\n",
    "variants = df.index.get_level_values(\"Variant\")\n",
    "\n",
    "o1_df = df[variants.str.fullmatch(\"Clang 15, O1\")]\n",
    "\n",
    "## Checking source-based scope lines\n",
    "# 3246 with no scope lines\n",
    "# Unit name incorrect for `libgnu` files\n",
    "# Subdirectories not reflected in region paths\n",
    "# 13 with no scope lines\n",
    "# 10 issues appear to be \"always inline\"-related\n",
    "# 3 issues remain to investigate\n",
    "# 3 remaining are related to macro definitions in system headers\n",
    "\n",
    "# o1_df[o1_df[\"Src Scope (L)\"] == 0]"
   ]
  }
 ],
 "metadata": {
  "kernelspec": {
   "display_name": "Python 3",
   "language": "python",
   "name": "python3"
  },
  "language_info": {
   "codemirror_mode": {
    "name": "ipython",
    "version": 3
   },
   "file_extension": ".py",
   "mimetype": "text/x-python",
   "name": "python",
   "nbconvert_exporter": "python",
   "pygments_lexer": "ipython3",
   "version": "3.11.5"
  },
  "orig_nbformat": 4
 },
 "nbformat": 4,
 "nbformat_minor": 2
}
