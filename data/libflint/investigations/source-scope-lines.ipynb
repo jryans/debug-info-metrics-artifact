{
 "cells": [
  {
   "attachments": {},
   "cell_type": "markdown",
   "metadata": {},
   "source": [
    "## Setup environment"
   ]
  },
  {
   "cell_type": "code",
   "execution_count": null,
   "metadata": {},
   "outputs": [],
   "source": [
    "import os\n",
    "import sys\n",
    "module_path = os.path.abspath(os.path.join(\"../..\"))\n",
    "if module_path not in sys.path:\n",
    "  sys.path.append(module_path)\n",
    "\n",
    "import numpy as np\n",
    "import pandas as pd\n",
    "\n",
    "import matplotlib as mpl\n",
    "import matplotlib.pyplot as plt\n",
    "\n",
    "import seaborn as sns\n",
    "import seaborn.objects as so\n",
    "\n",
    "import shared.package_plots as plots"
   ]
  },
  {
   "cell_type": "markdown",
   "metadata": {},
   "source": [
    "## Setup notebook"
   ]
  },
  {
   "cell_type": "code",
   "execution_count": null,
   "metadata": {},
   "outputs": [],
   "source": [
    "pd.options.display.max_colwidth = 100\n",
    "\n",
    "sns.set_theme(\n",
    "  context=\"paper\",\n",
    "  style=\"whitegrid\",\n",
    "  palette=\"colorblind\",\n",
    "  font=\"Source Sans Pro\",\n",
    ")\n",
    "\n",
    "%config InlineBackend.figure_format = \"retina\""
   ]
  },
  {
   "cell_type": "markdown",
   "metadata": {},
   "source": [
    "## Configuration"
   ]
  },
  {
   "cell_type": "code",
   "execution_count": null,
   "metadata": {},
   "outputs": [],
   "source": [
    "plots.configure(\n",
    "  target=\"libflint\",\n",
    "  friendly=\"FLINT\",\n",
    "  path_prefix=\"../\",\n",
    ")"
   ]
  },
  {
   "attachments": {},
   "cell_type": "markdown",
   "metadata": {},
   "source": [
    "## Load data"
   ]
  },
  {
   "cell_type": "code",
   "execution_count": null,
   "metadata": {},
   "outputs": [],
   "source": [
    "# compilations_df = plots.load_data()\n",
    "\n",
    "def load_data():\n",
    "  target_name=\"libflint\"\n",
    "  data_path_prefix=\"../\"\n",
    "\n",
    "  def read_run(file, variant):\n",
    "    df = pd.read_table(f\"{data_path_prefix}{file}\")\n",
    "    # Clean up column names\n",
    "    df.columns = df.columns.str.strip()\n",
    "    # Sort by name to aid matching across datasets\n",
    "    df = df.sort_values(\"Name\", ignore_index=True)\n",
    "    # Remove duplicate names (e.g. from macro-generated code with multiple uses of\n",
    "    # the same variable name)\n",
    "    df = df.drop_duplicates(\"Name\", keep=False)\n",
    "    return df\n",
    "\n",
    "  o0_15_df = read_run(f\"O0-15/{target_name}.tsv\", \"Clang 15, O0\")\n",
    "  o0_15_m2r_df = read_run(f\"O0-15-mem2reg/{target_name}.tsv\", \"Clang 15, O0 + mem2reg\")\n",
    "  o0_15_m2r_efb_df = read_run(f\"O0-15-mem2reg/{target_name}-efb.tsv\", \"Clang 15, O0 + mem2reg + KE\")\n",
    "  # o1_12_df = read_run(f\"O1-12/{target_name}.tsv\", \"Clang 12, O1\")\n",
    "  # o1_13_df = read_run(f\"O1-13/{target_name}.tsv\", \"Clang 13, O1\")\n",
    "  # o1_14_df = read_run(f\"O1-14/{target_name}.tsv\", \"Clang 14, O1\")\n",
    "  # o1_15_df = read_run(f\"O1-15/{target_name}.tsv\", \"Clang 15, O1\")\n",
    "  # o1_15_efb_df = read_run(f\"O1-15/{target_name}-efb.tsv\", \"Clang 15, O1 + KE\")\n",
    "  # o2_15_df = read_run(f\"O2-15/{target_name}.tsv\", \"Clang 15, O2\")\n",
    "  # o2_15_efb_df = read_run(f\"O2-15/{target_name}-efb.tsv\", \"Clang 15, O2 + KE\")\n",
    "  # o3_15_df = read_run(f\"O3-15/{target_name}.tsv\", \"Clang 15, O3\")\n",
    "  # o3_15_efb_df = read_run(f\"O3-15/{target_name}-efb.tsv\", \"Clang 15, O3 + KE\")\n",
    "\n",
    "  # Manufacture virtual data frame representing full coverage\n",
    "  full_df = o0_15_df.copy()\n",
    "  full_df[\"Cov (B)\"] = full_df[\"Scope (B)\"]\n",
    "  full_df[\"Cov (L)\"] = full_df[\"Scope (L)\"]\n",
    "  full_df[\"Flt Cov (L)\"] = full_df[\"Src Scope (L)\"]\n",
    "\n",
    "  # Restrict all data frames to common names they all share\n",
    "  common_names = (\n",
    "    set(full_df[\"Name\"]) &\n",
    "    set(o0_15_df[\"Name\"]) &\n",
    "    set(o0_15_m2r_df[\"Name\"]) &\n",
    "    set(o0_15_m2r_efb_df[\"Name\"]) # &\n",
    "    # set(o1_12_df[\"Name\"]) &\n",
    "    # set(o1_13_df[\"Name\"]) &\n",
    "    # set(o1_14_df[\"Name\"]) &\n",
    "    # set(o1_15_df[\"Name\"]) &\n",
    "    # set(o1_15_efb_df[\"Name\"]) &\n",
    "    # set(o2_15_df[\"Name\"]) &\n",
    "    # set(o2_15_efb_df[\"Name\"]) &\n",
    "    # set(o3_15_df[\"Name\"]) &\n",
    "    # set(o3_15_efb_df[\"Name\"])\n",
    "  )\n",
    "  print(f\"Common names: {len(common_names)}\")\n",
    "  def common_only(df, variant):\n",
    "    diff = len(df) - len(df[df[\"Name\"].isin(common_names)])\n",
    "    print(f\"Dropped {diff} unique names from {variant}\")\n",
    "    return df[df[\"Name\"].isin(common_names)]\n",
    "  full_df = common_only(full_df, \"Defined region\")\n",
    "  o0_15_df = common_only(o0_15_df, \"Clang 15, O0\")\n",
    "  o0_15_m2r_df = common_only(o0_15_m2r_df, \"Clang 15, O0 + mem2reg\")\n",
    "  o0_15_m2r_efb_df = common_only(o0_15_m2r_efb_df, \"Clang 15, O0 + mem2reg + KE\")\n",
    "  # o1_12_df = common_only(o1_12_df, \"Clang 12, O1\")\n",
    "  # o1_13_df = common_only(o1_13_df, \"Clang 13, O1\")\n",
    "  # o1_14_df = common_only(o1_14_df, \"Clang 14, O1\")\n",
    "  # o1_15_df = common_only(o1_15_df, \"Clang 15, O1\")\n",
    "  # o1_15_efb_df = common_only(o1_15_efb_df, \"Clang 15, O1 + KE\")\n",
    "  # o2_15_df = common_only(o2_15_df, \"Clang 15, O2\")\n",
    "  # o2_15_efb_df = common_only(o2_15_efb_df, \"Clang 15, O2 + KE\")\n",
    "  # o3_15_df = common_only(o3_15_df, \"Clang 15, O3\")\n",
    "  # o3_15_efb_df = common_only(o3_15_efb_df, \"Clang 15, O3 + KE\")\n",
    "\n",
    "  # Order is important here!\n",
    "  # Some data transformations rely on\n",
    "  # `iloc[1]` to access the baseline,\n",
    "  # `diff` to access KE vs. not, etc.\n",
    "  # Re-check all transformations when changing the order.\n",
    "  compilations_df = pd.concat([\n",
    "    full_df,\n",
    "    o0_15_df,\n",
    "    o0_15_m2r_df,\n",
    "    o0_15_m2r_efb_df,\n",
    "    # o1_12_df,\n",
    "    # o1_13_df,\n",
    "    # o1_14_df,\n",
    "    # o1_15_df,\n",
    "    # o1_15_efb_df,\n",
    "    # o2_15_df,\n",
    "    # o2_15_efb_df,\n",
    "    # o3_15_df,\n",
    "    # o3_15_efb_df,\n",
    "  ], keys=[\n",
    "    \"Defined region\",\n",
    "    \"Clang 15, O0\",\n",
    "    \"Clang 15, O0 + mem2reg\",\n",
    "    \"Clang 15, O0 + mem2reg + KE\",\n",
    "    # \"Clang 12, O1\",\n",
    "    # \"Clang 13, O1\",\n",
    "    # \"Clang 14, O1\",\n",
    "    # \"Clang 15, O1\",\n",
    "    # \"Clang 15, O1 + KE\",\n",
    "    # \"Clang 15, O2\",\n",
    "    # \"Clang 15, O2 + KE\",\n",
    "    # \"Clang 15, O3\",\n",
    "    # \"Clang 15, O3 + KE\",\n",
    "  ], names=[\n",
    "    \"Variant\",\n",
    "    \"Row\",\n",
    "  ])\n",
    "\n",
    "  return compilations_df\n",
    "\n",
    "compilations_df = load_data()"
   ]
  },
  {
   "cell_type": "markdown",
   "metadata": {},
   "source": [
    "## Normalise"
   ]
  },
  {
   "cell_type": "code",
   "execution_count": null,
   "metadata": {},
   "outputs": [],
   "source": [
    "plots.normalise(compilations_df)\n",
    "\n",
    "# compilations_df.to_csv(\"normalised.tsv\", sep=\"\\t\")"
   ]
  },
  {
   "cell_type": "markdown",
   "metadata": {},
   "source": [
    "## Sanity check"
   ]
  },
  {
   "cell_type": "code",
   "execution_count": null,
   "metadata": {},
   "outputs": [],
   "source": [
    "df = compilations_df.copy()\n",
    "\n",
    "print(\"Rows with no scope lines:\", df[df[\"Src Scope (L)\"] == 0].shape[0])\n",
    "print(\"Rows with >100% coverage:\", df[df[\"FCL / SSL\"] > 1].shape[0])\n",
    "\n",
    "# assert df[df[\"Src Scope (L)\"] == 0].shape[0] == 0, \"Rows with no scope lines\"\n",
    "assert df[df[\"FCL / SSL\"] > 1].shape[0] == 0, \"Rows with >100% coverage\""
   ]
  },
  {
   "cell_type": "markdown",
   "metadata": {},
   "source": [
    "## Playground"
   ]
  },
  {
   "cell_type": "code",
   "execution_count": null,
   "metadata": {},
   "outputs": [],
   "source": [
    "df = compilations_df.copy()\n",
    "\n",
    "variants = df.index.get_level_values(\"Variant\")\n",
    "\n",
    "fdf = df[variants.str.fullmatch(\"Clang 15, O0\")]\n",
    "fdf[fdf[\"Src Scope (L)\"] == 0]\n",
    "\n",
    "## Checking source-based scope lines\n",
    "# 946 rows with no scope\n",
    "# Investigating __gr_nmod_vec_dot, t1, decl nmod.c:814, unit src/gr/nmod.c\n",
    "# Added definition regions for inline assembly\n",
    "# 0 rows with no scope, all done!"
   ]
  }
 ],
 "metadata": {
  "kernelspec": {
   "display_name": "Python 3",
   "language": "python",
   "name": "python3"
  },
  "language_info": {
   "codemirror_mode": {
    "name": "ipython",
    "version": 3
   },
   "file_extension": ".py",
   "mimetype": "text/x-python",
   "name": "python",
   "nbconvert_exporter": "python",
   "pygments_lexer": "ipython3",
   "version": "3.11.5"
  },
  "orig_nbformat": 4,
  "vscode": {
   "interpreter": {
    "hash": "aee8b7b246df8f9039afb4144a1f6fd8d2ca17a180786b69acc140d282b71a49"
   }
  }
 },
 "nbformat": 4,
 "nbformat_minor": 2
}
