{
 "cells": [
  {
   "attachments": {},
   "cell_type": "markdown",
   "metadata": {},
   "source": [
    "## Setup environment"
   ]
  },
  {
   "cell_type": "code",
   "execution_count": null,
   "metadata": {},
   "outputs": [],
   "source": [
    "import os\n",
    "import sys\n",
    "module_path = os.path.abspath(os.path.join(\"../..\"))\n",
    "if module_path not in sys.path:\n",
    "  sys.path.append(module_path)\n",
    "\n",
    "import numpy as np\n",
    "import pandas as pd\n",
    "\n",
    "import matplotlib as mpl\n",
    "import matplotlib.pyplot as plt\n",
    "\n",
    "import seaborn as sns\n",
    "import seaborn.objects as so\n",
    "\n",
    "import shared.package_plots as plots"
   ]
  },
  {
   "cell_type": "markdown",
   "metadata": {},
   "source": [
    "## Setup notebook"
   ]
  },
  {
   "cell_type": "code",
   "execution_count": null,
   "metadata": {},
   "outputs": [],
   "source": [
    "pd.options.display.max_colwidth = 100\n",
    "\n",
    "sns.set_theme(\n",
    "  context=\"paper\",\n",
    "  style=\"whitegrid\",\n",
    "  palette=\"colorblind\",\n",
    "  font=\"Source Sans Pro\",\n",
    ")\n",
    "\n",
    "%config InlineBackend.figure_format = \"retina\""
   ]
  },
  {
   "cell_type": "markdown",
   "metadata": {},
   "source": [
    "## Configuration"
   ]
  },
  {
   "cell_type": "code",
   "execution_count": null,
   "metadata": {},
   "outputs": [],
   "source": [
    "plots.configure(\n",
    "  target=\"git\",\n",
    "  friendly=\"Git\",\n",
    "  path_prefix=\"../\",\n",
    ")"
   ]
  },
  {
   "attachments": {},
   "cell_type": "markdown",
   "metadata": {},
   "source": [
    "## Load data"
   ]
  },
  {
   "cell_type": "code",
   "execution_count": null,
   "metadata": {},
   "outputs": [],
   "source": [
    "compilations_df = plots.load_data()"
   ]
  },
  {
   "cell_type": "markdown",
   "metadata": {},
   "source": [
    "## Normalise"
   ]
  },
  {
   "cell_type": "code",
   "execution_count": null,
   "metadata": {},
   "outputs": [],
   "source": [
    "\n",
    "plots.normalise(compilations_df)\n",
    "\n",
    "# compilations_df.to_csv(\"normalised.tsv\", sep=\"\\t\")"
   ]
  },
  {
   "cell_type": "markdown",
   "metadata": {},
   "source": [
    "## Sanity check"
   ]
  },
  {
   "cell_type": "code",
   "execution_count": null,
   "metadata": {},
   "outputs": [],
   "source": [
    "df = compilations_df.copy()\n",
    "\n",
    "print(\"Rows with no scope lines:\", df[df[\"Src Scope (L)\"] == 0].shape[0])\n",
    "print(\"Rows with >100% coverage:\", df[df[\"FCL / SSL\"] > 1].shape[0])\n",
    "\n",
    "# assert df[df[\"Src Scope (L)\"] == 0].shape[0] == 0, \"Rows with no scope lines\"\n",
    "assert df[df[\"FCL / SSL\"] > 1].shape[0] == 0, \"Rows with >100% coverage\""
   ]
  },
  {
   "cell_type": "markdown",
   "metadata": {},
   "source": [
    "## Playground"
   ]
  },
  {
   "cell_type": "code",
   "execution_count": null,
   "metadata": {},
   "outputs": [],
   "source": [
    "# df = compilations_df.copy()\n",
    "# variants = df.index.get_level_values(\"Variant\")\n",
    "\n",
    "# o1_df = df[variants.str.fullmatch(\"Clang 15, O1\")]\n",
    "\n",
    "## Comparing raw lines to filtered lines\n",
    "# 6463 filtered away\n",
    "# Working on xsnprintf, ap, decl wrapper.c:681, unit wrapper.c\n",
    "# Now treating call arguments as may be defined\n",
    "# 4763 filtered away\n",
    "# Missing computation region also clears line sets\n",
    "# 4782 filtered away\n",
    "# o1_df[o1_df[\"Cov (L)\"] > 0][o1_df[\"Flt Cov (L)\"] == 0]\n",
    "\n",
    "## Checking source-based scope lines\n",
    "# 4627 with no scope lines\n",
    "# Working on xdl_trim_ends, lim, decl xprepare.c:427, unit xdiff/xprepare.c\n",
    "# Added multiple comma-separated assignments\n",
    "# by looking up multiple levels for the nearest Stmt ancestor\n",
    "# 900 with no scope lines\n",
    "# Working on wt_status_check_rebase, st, decl wt-status.c:1682, unit wt-status.c\n",
    "# Fixed call argument iteration\n",
    "# 666 with no scope lines\n",
    "# Working on xdl_num_out, buf, decl xutils.c:323, unit xdiff/xutils.c\n",
    "# Added defined regions for pointer assignments\n",
    "# 628 with no scope lines\n",
    "# Working on kwsincr, dirs, decl kwset.c:138, unit kwset.c\n",
    "# Added descent into tree on left-hand side of assignments\n",
    "# 620 with no scope lines\n",
    "# Working on tmp_objdir_create, installed_handlers, decl tmp-objdir.c:115, unit\n",
    "# tmp-objdir.c\n",
    "# Added static local computation and definition regions\n",
    "# 615 with no scope line\n",
    "# Working on add_cmdname, flex_array_len_, decl help.c:152, unit help.c\n",
    "# Fixed next line adjustment for one-line regions\n",
    "# Ignored multi-file regions (e.g. variable declared via #include mid-function)\n",
    "# 10 with no scope lines\n",
    "# Working on cmd_grep, dummy, decl grep.c:882, unit builtin/grep.c\n",
    "# Added all right-hand side assignment and initialiser variables\n",
    "# 7 with no scope lines\n",
    "# Working on dereference, unused, decl fast-import.c:3046, unit\n",
    "# builtin/fast-import.c\n",
    "# Included current line when referencing existing variables\n",
    "# 4 with no scope lines\n",
    "# Remaining issues seem to be \"always inline\"-related\n",
    "\n",
    "# o1_df[o1_df[\"Src Scope (L)\"] == 0]"
   ]
  }
 ],
 "metadata": {
  "kernelspec": {
   "display_name": "Python 3",
   "language": "python",
   "name": "python3"
  },
  "language_info": {
   "codemirror_mode": {
    "name": "ipython",
    "version": 3
   },
   "file_extension": ".py",
   "mimetype": "text/x-python",
   "name": "python",
   "nbconvert_exporter": "python",
   "pygments_lexer": "ipython3",
   "version": "3.11.5"
  },
  "orig_nbformat": 4
 },
 "nbformat": 4,
 "nbformat_minor": 2
}
