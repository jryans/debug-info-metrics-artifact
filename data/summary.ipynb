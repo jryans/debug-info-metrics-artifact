{
 "cells": [
  {
   "attachments": {},
   "cell_type": "markdown",
   "metadata": {},
   "source": [
    "## Setup environment"
   ]
  },
  {
   "cell_type": "code",
   "execution_count": null,
   "metadata": {},
   "outputs": [],
   "source": [
    "import numpy as np\n",
    "import pandas as pd\n",
    "\n",
    "import matplotlib as mpl\n",
    "import matplotlib.pyplot as plt\n",
    "\n",
    "import seaborn as sns\n",
    "import seaborn.objects as so\n",
    "\n",
    "import shared.package_plots as package_plots\n",
    "import shared.summary_plots as summary_plots"
   ]
  },
  {
   "cell_type": "markdown",
   "metadata": {},
   "source": [
    "## Setup notebook"
   ]
  },
  {
   "cell_type": "code",
   "execution_count": null,
   "metadata": {},
   "outputs": [],
   "source": [
    "pd.options.display.max_colwidth = 100\n",
    "\n",
    "sns.set_theme(\n",
    "  context=\"paper\",\n",
    "  style=\"whitegrid\",\n",
    "  palette=\"colorblind\",\n",
    "  font=\"Source Sans Pro\",\n",
    ")\n",
    "\n",
    "%config InlineBackend.figure_format = \"retina\""
   ]
  },
  {
   "attachments": {},
   "cell_type": "markdown",
   "metadata": {},
   "source": [
    "## Load data"
   ]
  },
  {
   "cell_type": "code",
   "execution_count": null,
   "metadata": {},
   "outputs": [],
   "source": [
    "package_plots.configure(\n",
    "  target=\"dash\",\n",
    "  friendly=\"Dash\",\n",
    "  path_prefix=\"dash/\",\n",
    ")\n",
    "dash_df = package_plots.load_data()\n",
    "package_plots.normalise(dash_df)\n",
    "\n",
    "package_plots.configure(\n",
    "  target=\"git\",\n",
    "  friendly=\"Git\",\n",
    "  path_prefix=\"git/\",\n",
    ")\n",
    "git_df = package_plots.load_data()\n",
    "package_plots.normalise(git_df)\n",
    "\n",
    "package_plots.configure(\n",
    "  target=\"libbz2\",\n",
    "  friendly=\"libbz2\",\n",
    "  path_prefix=\"libbz2/\",\n",
    ")\n",
    "libbz2_df = package_plots.load_data()\n",
    "package_plots.normalise(libbz2_df)\n",
    "\n",
    "package_plots.configure(\n",
    "  target=\"tar\",\n",
    "  friendly=\"tar\",\n",
    "  path_prefix=\"tar/\",\n",
    ")\n",
    "tar_df = package_plots.load_data()\n",
    "package_plots.normalise(tar_df)\n",
    "\n",
    "summary_df = pd.concat([\n",
    "  dash_df,\n",
    "  git_df,\n",
    "  libbz2_df,\n",
    "  tar_df,\n",
    "], keys=[\n",
    "  \"Dash\",\n",
    "  \"Git\",\n",
    "  \"libbz2\",\n",
    "  \"tar\",\n",
    "], names=[\n",
    "  \"Package\",\n",
    "])"
   ]
  },
  {
   "cell_type": "markdown",
   "metadata": {},
   "source": [
    "## Playground"
   ]
  },
  {
   "cell_type": "code",
   "execution_count": null,
   "metadata": {},
   "outputs": [],
   "source": [
    "# df = summary_df.copy()"
   ]
  },
  {
   "attachments": {},
   "cell_type": "markdown",
   "metadata": {},
   "source": [
    "## Coverage by package, O1"
   ]
  },
  {
   "cell_type": "code",
   "execution_count": null,
   "metadata": {},
   "outputs": [],
   "source": [
    "summary_plots.coverage_by_package_o1(summary_df)"
   ]
  }
 ],
 "metadata": {
  "kernelspec": {
   "display_name": "Python 3",
   "language": "python",
   "name": "python3"
  },
  "language_info": {
   "codemirror_mode": {
    "name": "ipython",
    "version": 3
   },
   "file_extension": ".py",
   "mimetype": "text/x-python",
   "name": "python",
   "nbconvert_exporter": "python",
   "pygments_lexer": "ipython3",
   "version": "3.11.5"
  },
  "orig_nbformat": 4,
  "vscode": {
   "interpreter": {
    "hash": "aee8b7b246df8f9039afb4144a1f6fd8d2ca17a180786b69acc140d282b71a49"
   }
  }
 },
 "nbformat": 4,
 "nbformat_minor": 2
}
