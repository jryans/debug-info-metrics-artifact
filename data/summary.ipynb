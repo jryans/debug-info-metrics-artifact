{
 "cells": [
  {
   "attachments": {},
   "cell_type": "markdown",
   "metadata": {},
   "source": [
    "## Setup environment"
   ]
  },
  {
   "cell_type": "code",
   "execution_count": null,
   "metadata": {},
   "outputs": [],
   "source": [
    "import numpy as np\n",
    "import pandas as pd\n",
    "\n",
    "import matplotlib as mpl\n",
    "import matplotlib.pyplot as plt\n",
    "\n",
    "import seaborn as sns\n",
    "import seaborn.objects as so\n",
    "\n",
    "import shared.package_plots as package_plots\n",
    "import shared.summary_plots as summary_plots"
   ]
  },
  {
   "cell_type": "markdown",
   "metadata": {},
   "source": [
    "## Setup notebook"
   ]
  },
  {
   "cell_type": "code",
   "execution_count": null,
   "metadata": {},
   "outputs": [],
   "source": [
    "pd.options.display.max_colwidth = 100\n",
    "\n",
    "sns.set_theme(\n",
    "  context=\"paper\",\n",
    "  style=\"whitegrid\",\n",
    "  palette=\"colorblind\",\n",
    "  font=\"Source Sans Pro\",\n",
    ")\n",
    "\n",
    "%config InlineBackend.figure_format = \"retina\""
   ]
  },
  {
   "attachments": {},
   "cell_type": "markdown",
   "metadata": {},
   "source": [
    "## Load data"
   ]
  },
  {
   "cell_type": "code",
   "execution_count": null,
   "metadata": {},
   "outputs": [],
   "source": [
    "dash_df = summary_plots.load_data(\n",
    "  target_name=\"dash\",\n",
    "  data_path_prefix=\"dash/\",\n",
    ")\n",
    "summary_plots.normalise(dash_df)\n",
    "\n",
    "ffmpeg_df = summary_plots.load_data(\n",
    "  target_name=\"ffmpeg\",\n",
    "  data_path_prefix=\"ffmpeg/\",\n",
    ")\n",
    "summary_plots.normalise(ffmpeg_df)\n",
    "\n",
    "git_df = summary_plots.load_data(\n",
    "  target_name=\"git\",\n",
    "  data_path_prefix=\"git/\",\n",
    ")\n",
    "summary_plots.normalise(git_df)\n",
    "\n",
    "libbz2_df = summary_plots.load_data(\n",
    "  target_name=\"libbz2\",\n",
    "  data_path_prefix=\"libbz2/\",\n",
    ")\n",
    "summary_plots.normalise(libbz2_df)\n",
    "\n",
    "libflint_df = summary_plots.load_data(\n",
    "  target_name=\"libflint\",\n",
    "  data_path_prefix=\"libflint/\",\n",
    ")\n",
    "summary_plots.normalise(libflint_df)\n",
    "\n",
    "tar_df = summary_plots.load_data(\n",
    "  target_name=\"tar\",\n",
    "  data_path_prefix=\"tar/\",\n",
    ")\n",
    "summary_plots.normalise(tar_df)\n",
    "\n",
    "summary_df = pd.concat([\n",
    "  dash_df,\n",
    "  ffmpeg_df,\n",
    "  git_df,\n",
    "  libbz2_df,\n",
    "  libflint_df,\n",
    "  tar_df,\n",
    "], keys=[\n",
    "  \"Dash (shell)\",\n",
    "  \"FFmpeg (media)\",\n",
    "  \"Git (VCS)\",\n",
    "  \"libbz2 (compression)\",\n",
    "  \"FLINT (numerical)\",\n",
    "  \"tar (archive)\",\n",
    "], names=[\n",
    "  \"Package\",\n",
    "])"
   ]
  },
  {
   "cell_type": "markdown",
   "metadata": {},
   "source": [
    "## Playground"
   ]
  },
  {
   "cell_type": "code",
   "execution_count": null,
   "metadata": {},
   "outputs": [],
   "source": [
    "# df = summary_df.copy()"
   ]
  },
  {
   "attachments": {},
   "cell_type": "markdown",
   "metadata": {},
   "source": [
    "## Coverage by package, O2"
   ]
  },
  {
   "cell_type": "code",
   "execution_count": null,
   "metadata": {},
   "outputs": [],
   "source": [
    "summary_plots.coverage_by_package_o2(summary_df)"
   ]
  }
 ],
 "metadata": {
  "kernelspec": {
   "display_name": "Python 3",
   "language": "python",
   "name": "python3"
  },
  "language_info": {
   "codemirror_mode": {
    "name": "ipython",
    "version": 3
   },
   "file_extension": ".py",
   "mimetype": "text/x-python",
   "name": "python",
   "nbconvert_exporter": "python",
   "pygments_lexer": "ipython3",
   "version": "3.11.5"
  },
  "orig_nbformat": 4,
  "vscode": {
   "interpreter": {
    "hash": "aee8b7b246df8f9039afb4144a1f6fd8d2ca17a180786b69acc140d282b71a49"
   }
  }
 },
 "nbformat": 4,
 "nbformat_minor": 2
}
